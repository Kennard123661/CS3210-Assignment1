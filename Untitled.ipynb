{
 "cells": [
  {
   "cell_type": "code",
   "execution_count": 12,
   "metadata": {},
   "outputs": [],
   "source": [
    "# Pandas for managing datasets\n",
    "import pandas as pd"
   ]
  },
  {
   "cell_type": "code",
   "execution_count": 13,
   "metadata": {},
   "outputs": [],
   "source": [
    "# Matplotlib for additional customization\n",
    "#from matplotlib import pyplot as plt\n",
    "#%matplotlib inline\n",
    "import matplotlib.pyplot as plt"
   ]
  },
  {
   "cell_type": "code",
   "execution_count": 14,
   "metadata": {},
   "outputs": [],
   "source": [
    "# Seaborn for plotting and styling\n",
    "import seaborn as sns"
   ]
  },
  {
   "cell_type": "code",
   "execution_count": 15,
   "metadata": {},
   "outputs": [],
   "source": [
    "# Read dataset\n",
    "df = pd.read_csv('CS3210 Simulation Time VS Execution Time1.csv', index_col=0)"
   ]
  },
  {
   "cell_type": "code",
   "execution_count": 16,
   "metadata": {},
   "outputs": [
    {
     "data": {
      "text/html": [
       "<div>\n",
       "<style scoped>\n",
       "    .dataframe tbody tr th:only-of-type {\n",
       "        vertical-align: middle;\n",
       "    }\n",
       "\n",
       "    .dataframe tbody tr th {\n",
       "        vertical-align: top;\n",
       "    }\n",
       "\n",
       "    .dataframe thead th {\n",
       "        text-align: right;\n",
       "    }\n",
       "</style>\n",
       "<table border=\"1\" class=\"dataframe\">\n",
       "  <thead>\n",
       "    <tr style=\"text-align: right;\">\n",
       "      <th></th>\n",
       "      <th>Simulation_Time</th>\n",
       "      <th>Task-clock/msec</th>\n",
       "      <th>context-switches</th>\n",
       "      <th>cpu-migrations</th>\n",
       "      <th>page-faults</th>\n",
       "      <th>cycles</th>\n",
       "      <th>instructions per cycle</th>\n",
       "      <th>branches</th>\n",
       "      <th>branch-misses</th>\n",
       "      <th>time_elapsed</th>\n",
       "    </tr>\n",
       "    <tr>\n",
       "      <th>#</th>\n",
       "      <th></th>\n",
       "      <th></th>\n",
       "      <th></th>\n",
       "      <th></th>\n",
       "      <th></th>\n",
       "      <th></th>\n",
       "      <th></th>\n",
       "      <th></th>\n",
       "      <th></th>\n",
       "      <th></th>\n",
       "    </tr>\n",
       "  </thead>\n",
       "  <tbody>\n",
       "    <tr>\n",
       "      <th>1</th>\n",
       "      <td>10</td>\n",
       "      <td>42.683170</td>\n",
       "      <td>1655</td>\n",
       "      <td>551</td>\n",
       "      <td>136</td>\n",
       "      <td>49264316</td>\n",
       "      <td>14517621</td>\n",
       "      <td>2994089</td>\n",
       "      <td>104129</td>\n",
       "      <td>0.009701</td>\n",
       "    </tr>\n",
       "    <tr>\n",
       "      <th>2</th>\n",
       "      <td>15</td>\n",
       "      <td>63.194522</td>\n",
       "      <td>2402</td>\n",
       "      <td>681</td>\n",
       "      <td>136</td>\n",
       "      <td>69506594</td>\n",
       "      <td>19487271</td>\n",
       "      <td>4034617</td>\n",
       "      <td>138366</td>\n",
       "      <td>0.012427</td>\n",
       "    </tr>\n",
       "    <tr>\n",
       "      <th>3</th>\n",
       "      <td>20</td>\n",
       "      <td>82.399560</td>\n",
       "      <td>3163</td>\n",
       "      <td>878</td>\n",
       "      <td>139</td>\n",
       "      <td>90628549</td>\n",
       "      <td>24662705</td>\n",
       "      <td>5119334</td>\n",
       "      <td>175399</td>\n",
       "      <td>0.016296</td>\n",
       "    </tr>\n",
       "    <tr>\n",
       "      <th>4</th>\n",
       "      <td>25</td>\n",
       "      <td>103.391417</td>\n",
       "      <td>4233</td>\n",
       "      <td>1156</td>\n",
       "      <td>136</td>\n",
       "      <td>117532411</td>\n",
       "      <td>32038502</td>\n",
       "      <td>6653532</td>\n",
       "      <td>230821</td>\n",
       "      <td>0.025651</td>\n",
       "    </tr>\n",
       "    <tr>\n",
       "      <th>5</th>\n",
       "      <td>30</td>\n",
       "      <td>111.158083</td>\n",
       "      <td>4778</td>\n",
       "      <td>1236</td>\n",
       "      <td>137</td>\n",
       "      <td>134494025</td>\n",
       "      <td>36260978</td>\n",
       "      <td>7522416</td>\n",
       "      <td>253043</td>\n",
       "      <td>0.027571</td>\n",
       "    </tr>\n",
       "  </tbody>\n",
       "</table>\n",
       "</div>"
      ],
      "text/plain": [
       "   Simulation_Time  Task-clock/msec  context-switches  cpu-migrations  \\\n",
       "#                                                                       \n",
       "1               10        42.683170              1655             551   \n",
       "2               15        63.194522              2402             681   \n",
       "3               20        82.399560              3163             878   \n",
       "4               25       103.391417              4233            1156   \n",
       "5               30       111.158083              4778            1236   \n",
       "\n",
       "   page-faults     cycles  instructions per cycle  branches  branch-misses  \\\n",
       "#                                                                            \n",
       "1          136   49264316                14517621   2994089         104129   \n",
       "2          136   69506594                19487271   4034617         138366   \n",
       "3          139   90628549                24662705   5119334         175399   \n",
       "4          136  117532411                32038502   6653532         230821   \n",
       "5          137  134494025                36260978   7522416         253043   \n",
       "\n",
       "   time_elapsed  \n",
       "#                \n",
       "1      0.009701  \n",
       "2      0.012427  \n",
       "3      0.016296  \n",
       "4      0.025651  \n",
       "5      0.027571  "
      ]
     },
     "execution_count": 16,
     "metadata": {},
     "output_type": "execute_result"
    }
   ],
   "source": [
    "# Display first 5 observations\n",
    "df.head()"
   ]
  },
  {
   "cell_type": "code",
   "execution_count": 17,
   "metadata": {},
   "outputs": [
    {
     "data": {
      "text/plain": [
       "<seaborn.axisgrid.FacetGrid at 0x114e4796518>"
      ]
     },
     "execution_count": 17,
     "metadata": {},
     "output_type": "execute_result"
    },
    {
     "data": {
      "image/png": "[encoded data removed]",
      "text/plain": [
       "<Figure size 360x360 with 1 Axes>"
      ]
     },
     "metadata": {},
     "output_type": "display_data"
    }
   ],
   "source": [
    "# Recommended way\n",
    "g=sns.lmplot(x='Simulation_Time', y='time_elapsed', data=df, palette=\"muted\")\n",
    "g.set(xlim=(5, 205), ylim=(0.005,0.13))"
   ]
  },
  {
   "cell_type": "code",
   "execution_count": 18,
   "metadata": {},
   "outputs": [],
   "source": [
    "x1 = df[['time_elapsed', 'Simulation_Time', 'page-faults']]\n",
    "with open('ExecutionVsSimulation.tex','w') as tf:\n",
    "    tf.write(x1.to_latex())"
   ]
  },
  {
   "cell_type": "code",
   "execution_count": 19,
   "metadata": {},
   "outputs": [],
   "source": [
    "# Read dataset\n",
    "df = pd.read_csv('Varying Number of Threads.csv', index_col=0)"
   ]
  },
  {
   "cell_type": "code",
   "execution_count": 20,
   "metadata": {},
   "outputs": [
    {
     "data": {
      "text/html": [
       "<div>\n",
       "<style scoped>\n",
       "    .dataframe tbody tr th:only-of-type {\n",
       "        vertical-align: middle;\n",
       "    }\n",
       "\n",
       "    .dataframe tbody tr th {\n",
       "        vertical-align: top;\n",
       "    }\n",
       "\n",
       "    .dataframe thead th {\n",
       "        text-align: right;\n",
       "    }\n",
       "</style>\n",
       "<table border=\"1\" class=\"dataframe\">\n",
       "  <thead>\n",
       "    <tr style=\"text-align: right;\">\n",
       "      <th></th>\n",
       "      <th>Simulation_Time</th>\n",
       "      <th>Trains_Running</th>\n",
       "      <th>Total_Trains</th>\n",
       "      <th>Task-clock/msec</th>\n",
       "      <th>context-switches</th>\n",
       "      <th>cpu-migrations</th>\n",
       "      <th>page-faults</th>\n",
       "      <th>cycles</th>\n",
       "      <th>instructions per cycle</th>\n",
       "      <th>branches</th>\n",
       "      <th>branch-misses</th>\n",
       "      <th>time_elapsed</th>\n",
       "    </tr>\n",
       "    <tr>\n",
       "      <th>#</th>\n",
       "      <th></th>\n",
       "      <th></th>\n",
       "      <th></th>\n",
       "      <th></th>\n",
       "      <th></th>\n",
       "      <th></th>\n",
       "      <th></th>\n",
       "      <th></th>\n",
       "      <th></th>\n",
       "      <th></th>\n",
       "      <th></th>\n",
       "      <th></th>\n",
       "    </tr>\n",
       "  </thead>\n",
       "  <tbody>\n",
       "    <tr>\n",
       "      <th>1</th>\n",
       "      <td>30</td>\n",
       "      <td>10, 10, 10</td>\n",
       "      <td>30</td>\n",
       "      <td>115.703403</td>\n",
       "      <td>4791</td>\n",
       "      <td>1282</td>\n",
       "      <td>139</td>\n",
       "      <td>131229297</td>\n",
       "      <td>35998666</td>\n",
       "      <td>7479134</td>\n",
       "      <td>250920</td>\n",
       "      <td>0.021105</td>\n",
       "    </tr>\n",
       "    <tr>\n",
       "      <th>2</th>\n",
       "      <td>30</td>\n",
       "      <td>11, 11, 11</td>\n",
       "      <td>33</td>\n",
       "      <td>131.771629</td>\n",
       "      <td>5149</td>\n",
       "      <td>1400</td>\n",
       "      <td>141</td>\n",
       "      <td>145021912</td>\n",
       "      <td>38983781</td>\n",
       "      <td>8089546</td>\n",
       "      <td>271425</td>\n",
       "      <td>0.024401</td>\n",
       "    </tr>\n",
       "    <tr>\n",
       "      <th>3</th>\n",
       "      <td>30</td>\n",
       "      <td>12, 12, 12</td>\n",
       "      <td>36</td>\n",
       "      <td>144.812461</td>\n",
       "      <td>6218</td>\n",
       "      <td>1671</td>\n",
       "      <td>151</td>\n",
       "      <td>168744007</td>\n",
       "      <td>45777849</td>\n",
       "      <td>9513964</td>\n",
       "      <td>323244</td>\n",
       "      <td>0.034721</td>\n",
       "    </tr>\n",
       "    <tr>\n",
       "      <th>4</th>\n",
       "      <td>30</td>\n",
       "      <td>13, 13, 13</td>\n",
       "      <td>39</td>\n",
       "      <td>153.002879</td>\n",
       "      <td>6593</td>\n",
       "      <td>1600</td>\n",
       "      <td>156</td>\n",
       "      <td>178051134</td>\n",
       "      <td>48599111</td>\n",
       "      <td>10087258</td>\n",
       "      <td>334030</td>\n",
       "      <td>0.029512</td>\n",
       "    </tr>\n",
       "    <tr>\n",
       "      <th>5</th>\n",
       "      <td>30</td>\n",
       "      <td>14, 14, 14</td>\n",
       "      <td>42</td>\n",
       "      <td>172.387030</td>\n",
       "      <td>6971</td>\n",
       "      <td>1732</td>\n",
       "      <td>163</td>\n",
       "      <td>191484895</td>\n",
       "      <td>51546530</td>\n",
       "      <td>10694346</td>\n",
       "      <td>356481</td>\n",
       "      <td>0.033125</td>\n",
       "    </tr>\n",
       "  </tbody>\n",
       "</table>\n",
       "</div>"
      ],
      "text/plain": [
       "   Simulation_Time Trains_Running  Total_Trains  Task-clock/msec  \\\n",
       "#                                                                  \n",
       "1               30     10, 10, 10            30       115.703403   \n",
       "2               30     11, 11, 11            33       131.771629   \n",
       "3               30     12, 12, 12            36       144.812461   \n",
       "4               30     13, 13, 13            39       153.002879   \n",
       "5               30     14, 14, 14            42       172.387030   \n",
       "\n",
       "   context-switches  cpu-migrations  page-faults     cycles  \\\n",
       "#                                                             \n",
       "1              4791            1282          139  131229297   \n",
       "2              5149            1400          141  145021912   \n",
       "3              6218            1671          151  168744007   \n",
       "4              6593            1600          156  178051134   \n",
       "5              6971            1732          163  191484895   \n",
       "\n",
       "   instructions per cycle  branches  branch-misses  time_elapsed  \n",
       "#                                                                 \n",
       "1                35998666   7479134         250920      0.021105  \n",
       "2                38983781   8089546         271425      0.024401  \n",
       "3                45777849   9513964         323244      0.034721  \n",
       "4                48599111  10087258         334030      0.029512  \n",
       "5                51546530  10694346         356481      0.033125  "
      ]
     },
     "execution_count": 20,
     "metadata": {},
     "output_type": "execute_result"
    }
   ],
   "source": [
    "# Display first 5 observations\n",
    "df.head()"
   ]
  },
  {
   "cell_type": "code",
   "execution_count": 21,
   "metadata": {},
   "outputs": [
    {
     "data": {
      "text/plain": [
       "<seaborn.axisgrid.FacetGrid at 0x114e4800e10>"
      ]
     },
     "execution_count": 21,
     "metadata": {},
     "output_type": "execute_result"
    },
    {
     "data": {
      "image/png": "[encoded data removed]",
      "text/plain": [
       "<Figure size 450.875x360 with 1 Axes>"
      ]
     },
     "metadata": {},
     "output_type": "display_data"
    }
   ],
   "source": [
    "# Recommended way\n",
    "##x = df[['time_elapsed', 'Total_Trains', 'Simulation_Time']]\n",
    "g=sns.lmplot(x=\"Total_Trains\", y=\"time_elapsed\", hue=\"Simulation_Time\", data=df)\n",
    "g.set(xlim=(29.5, 64.5))\n",
    "##g.map(plt.scatter, 'Total_Trains', 'time_elapsed').add_legend() "
   ]
  },
  {
   "cell_type": "code",
   "execution_count": 22,
   "metadata": {},
   "outputs": [],
   "source": [
    "x1 = df[['time_elapsed', 'Simulation_Time', 'Trains_Running', 'Total_Trains', 'page-faults']]\n",
    "with open('ExecutionVsTrains.tex','w') as tf:\n",
    "    tf.write(x1.to_latex())"
   ]
  },
  {
   "cell_type": "code",
   "execution_count": null,
   "metadata": {},
   "outputs": [],
   "source": []
  }
 ],
 "metadata": {
  "kernelspec": {
   "display_name": "Python 3",
   "language": "python",
   "name": "python3"
  },
  "language_info": {
   "codemirror_mode": {
    "name": "ipython",
    "version": 3
   },
   "file_extension": ".py",
   "mimetype": "text/x-python",
   "name": "python",
   "nbconvert_exporter": "python",
   "pygments_lexer": "ipython3",
   "version": "3.6.5"
  }
 },
 "nbformat": 4,
 "nbformat_minor": 2
}
